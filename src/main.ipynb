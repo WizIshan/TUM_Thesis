{
 "cells": [
  {
   "cell_type": "code",
   "execution_count": 8,
   "id": "6aa10f73-594a-4dc8-b4d1-f849107a4f1c",
   "metadata": {},
   "outputs": [],
   "source": [
    "import os\n",
    "from datetime import datetime\n",
    "\n",
    "from models import FineTuner\n",
    "from generate_metrics import Metric\n",
    "from paths import *"
   ]
  },
  {
   "cell_type": "code",
   "execution_count": 9,
   "metadata": {},
   "outputs": [
    {
     "name": "stdout",
     "output_type": "stream",
     "text": [
      "The autoreload extension is already loaded. To reload it, use:\n",
      "  %reload_ext autoreload\n"
     ]
    }
   ],
   "source": [
    "%load_ext autoreload\n",
    "%autoreload "
   ]
  },
  {
   "cell_type": "code",
   "execution_count": 10,
   "id": "2950770f",
   "metadata": {},
   "outputs": [],
   "source": [
    "## Setting current work directory for relative paths\n",
    "os.chdir(CURRENT_WD)"
   ]
  },
  {
   "cell_type": "code",
   "execution_count": 3,
   "metadata": {},
   "outputs": [],
   "source": [
    "model_checkpoint = \"bert-base-cased\" ## Model to be evaluated\n",
    "ft = FineTuner(model_name=model_checkpoint) ## For loading saved models or randomly initiliazed models pass the respective arguments in the function call "
   ]
  },
  {
   "cell_type": "code",
   "execution_count": null,
   "id": "effcf141",
   "metadata": {},
   "outputs": [],
   "source": [
    "metric = Metric(model_name = model_checkpoint, model = ft.getModel(), tokenizer = ft.getTokenizer(), model_tag= ft.model_tag, model_dir = ft.model_dir)\n",
    "metric.get_metric(metric = 'crows-pairs', input_file = CP_INPUT_FILE, output_file = CP_OUTPUT_FILE)\n",
    "metric.get_metric(metric = 'stereoset', input_file = SS_INPUT_FILE, output_file = SS_OUTPUT_FILE,output_dir = SS_OUTPUT_DIR)\n",
    "metric.get_metric(metric = 'ceat', input_dir = CEAT_INPUT_DIR,output_dir = CEAT_OUTPUT_DIR,generate_new=True)"
   ]
  }
 ],
 "metadata": {
  "kernelspec": {
   "display_name": "Python 3 (ipykernel)",
   "language": "python",
   "name": "python3"
  },
  "language_info": {
   "codemirror_mode": {
    "name": "ipython",
    "version": 3
   },
   "file_extension": ".py",
   "mimetype": "text/x-python",
   "name": "python",
   "nbconvert_exporter": "python",
   "pygments_lexer": "ipython3",
   "version": "3.11.5"
  }
 },
 "nbformat": 4,
 "nbformat_minor": 5
}
