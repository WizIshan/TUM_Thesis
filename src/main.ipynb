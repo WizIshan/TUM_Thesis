{
 "cells": [
  {
   "cell_type": "code",
   "execution_count": 1,
   "id": "6aa10f73-594a-4dc8-b4d1-f849107a4f1c",
   "metadata": {},
   "outputs": [
    {
     "name": "stderr",
     "output_type": "stream",
     "text": [
      "/home/bhatt/miniconda3/envs/thesis/lib/python3.11/site-packages/tqdm/auto.py:21: TqdmWarning: IProgress not found. Please update jupyter and ipywidgets. See https://ipywidgets.readthedocs.io/en/stable/user_install.html\n",
      "  from .autonotebook import tqdm as notebook_tqdm\n"
     ]
    }
   ],
   "source": [
    "from datetime import datetime\n",
    "\n",
    "from models import FineTuner\n",
    "from generate_metrics import Metric"
   ]
  },
  {
   "cell_type": "code",
   "execution_count": 1,
   "metadata": {},
   "outputs": [
    {
     "ename": "NameError",
     "evalue": "name 'datetime' is not defined",
     "output_type": "error",
     "traceback": [
      "\u001b[0;31m---------------------------------------------------------------------------\u001b[0m",
      "\u001b[0;31mNameError\u001b[0m                                 Traceback (most recent call last)",
      "Cell \u001b[0;32mIn[1], line 1\u001b[0m\n\u001b[0;32m----> 1\u001b[0m (\u001b[43mdatetime\u001b[49m\u001b[38;5;241m.\u001b[39mnow())\u001b[38;5;241m.\u001b[39mstrftime(\u001b[38;5;124m\"\u001b[39m\u001b[38;5;124m%\u001b[39m\u001b[38;5;124mY-\u001b[39m\u001b[38;5;124m%\u001b[39m\u001b[38;5;124mm-\u001b[39m\u001b[38;5;132;01m%d\u001b[39;00m\u001b[38;5;124m \u001b[39m\u001b[38;5;124m%\u001b[39m\u001b[38;5;124mH:\u001b[39m\u001b[38;5;124m%\u001b[39m\u001b[38;5;124mM:\u001b[39m\u001b[38;5;124m%\u001b[39m\u001b[38;5;124mS\u001b[39m\u001b[38;5;124m\"\u001b[39m)\n",
      "\u001b[0;31mNameError\u001b[0m: name 'datetime' is not defined"
     ]
    }
   ],
   "source": [
    "(datetime.now()).strftime(\"%Y-%m-%d %H:%M:%S\")"
   ]
  },
  {
   "cell_type": "code",
   "execution_count": 3,
   "metadata": {},
   "outputs": [],
   "source": [
    "%load_ext autoreload\n",
    "%autoreload "
   ]
  },
  {
   "cell_type": "code",
   "execution_count": 4,
   "id": "205d7d9b",
   "metadata": {},
   "outputs": [],
   "source": [
    "pre_trained_ckpt = {'imdb':{\n",
    "                        'bert-base-uncased' : '/home/bhatt/ishan/TUM_Thesis/data/models/bert-base-uncased-finetuned-imdb_2023-12-19/checkpoint-1500',\n",
    "                        'bert-base-cased' : '/home/bhatt/ishan/TUM_Thesis/data/models/bert-base-cased-finetuned-imdb_2023-12-19/checkpoint-1500',\n",
    "                        'distilbert-base-uncased' : '/home/bhatt/ishan/TUM_Thesis/data/models/distilbert-base-uncased-finetuned-imdb_2023-12-20/checkpoint-1500',\n",
    "                        'roberta-base' : '/home/bhatt/ishan/TUM_Thesis/data/models/roberta-base-finetuned-imdb_2023-12-20/checkpoint-1500',\n",
    "                        'albert-base-v2' : '/home/bhatt/ishan/TUM_Thesis/data/models/albert-base-v2-finetuned-imdb_2024-01-09/checkpoint-1500'\n",
    "                            },\n",
    "                    '4chan' : {\n",
    "                        'bert-base-uncased' : '/home/bhatt/ishan/TUM_Thesis/data/models/bert-base-uncased-finetuned-4chan_2023-12-29/checkpoint-1500',\n",
    "                        'bert-base-cased' : '/home/bhatt/ishan/TUM_Thesis/data/models/bert-base-cased-finetuned-4chan_2023-12-29/checkpoint-1500',\n",
    "                        'distilbert-base-uncased' : '/home/bhatt/ishan/TUM_Thesis/data/models/distilbert-base-uncased-finetuned-4chan_2023-12-29/checkpoint-1500',\n",
    "                        'roberta-base' : '/home/bhatt/ishan/TUM_Thesis/data/models/roberta-base-finetuned-4chan_2023-12-29/checkpoint-1500',\n",
    "                        'albert-base-v2' : '/home/bhatt/ishan/TUM_Thesis/data/models/albert-base-v2-finetuned-4chan_2024-01-05/checkpoint-1500'\n",
    "                    }}"
   ]
  },
  {
   "cell_type": "code",
   "execution_count": null,
   "id": "9a829073",
   "metadata": {},
   "outputs": [],
   "source": []
  },
  {
   "cell_type": "code",
   "execution_count": 5,
   "id": "1fbae74a",
   "metadata": {},
   "outputs": [
    {
     "name": "stdout",
     "output_type": "stream",
     "text": [
      "**********************************************************************\n",
      "**********************************************************************\n",
      "**********************************************************************\n",
      "Current Model :  albert-base-v2\n",
      "**********************************************************************\n",
      "**********************************************************************\n",
      "Model specification :  4chan\n",
      "Fine-Tuned model path :  /home/bhatt/ishan/TUM_Thesis/data/models/albert-base-v2-finetuned-4chan_2024-01-05/checkpoint-1500\n",
      "Initializing Model\n",
      "Model Initialized!\n"
     ]
    },
    {
     "name": "stderr",
     "output_type": "stream",
     "text": [
      "  0%|          | 0/1508 [00:00<?, ?it/s]/home/bhatt/miniconda3/envs/thesis/lib/python3.11/site-packages/torch/__init__.py:614: UserWarning: torch.set_default_tensor_type() is deprecated as of PyTorch 2.1, please use torch.set_default_dtype() and torch.set_default_device() as alternatives. (Triggered internally at ../torch/csrc/tensor/python_tensor.cpp:451.)\n",
      "  _C._set_default_tensor_type(t)\n",
      "  0%|          | 1/1508 [00:00<16:37,  1.51it/s]/home/bhatt/ishan/TUM_Thesis/src/metrics/crows_pairs.py:266: FutureWarning: The behavior of DataFrame concatenation with empty or all-NA entries is deprecated. In a future version, this will no longer exclude empty or all-NA columns when determining the result dtypes. To retain the old behavior, exclude the relevant entries before the concat operation.\n",
      "  df_score = pd.concat([df_score,pd.DataFrame({'sent_more': [sent_more],\n",
      "100%|██████████| 1508/1508 [04:18<00:00,  5.84it/s]\n"
     ]
    },
    {
     "name": "stdout",
     "output_type": "stream",
     "text": [
      "====================================================================================================\n",
      "Total examples: 1508\n",
      "Metric score: 51.26\n",
      "Stereotype score: 51.86\n",
      "Anti-stereotype score: 48.17\n",
      "Num. neutral: 2 0.13\n",
      "====================================================================================================\n",
      "\n",
      "Metrics Saved in  /home/bhatt/ishan/TUM_Thesis/data/results/master_results.xlsx\n"
     ]
    },
    {
     "name": "stderr",
     "output_type": "stream",
     "text": [
      "100%|██████████| 7940/7940 [00:53<00:00, 148.16it/s]\n"
     ]
    },
    {
     "name": "stdout",
     "output_type": "stream",
     "text": [
      "Metrics Saved in  /home/bhatt/ishan/TUM_Thesis/data/results/master_results.xlsx\n"
     ]
    }
   ],
   "source": [
    "# for model_checkpoint in ['bert-base-uncased','bert-base-cased','distilbert-base-uncased','roberta-base']:\n",
    "for model_checkpoint in ['albert-base-v2']:\n",
    "    print('**********************************************************************')\n",
    "    print('**********************************************************************')\n",
    "    print('**********************************************************************')\n",
    "    print('Current Model : ',model_checkpoint)\n",
    "    # for model_mode in ['normal','4chan','imdb','random']:\n",
    "    for model_mode in ['4chan','imdb','random']:\n",
    "        print('**********************************************************************')\n",
    "        print('**********************************************************************')\n",
    "        print('Model specification : ', model_mode)\n",
    "        if(model_mode == 'normal'):\n",
    "\n",
    "            ft = FineTuner(model_name=model_checkpoint,from_local=False, model_save_dir='None')\n",
    "\n",
    "        elif(model_mode == '4chan' or model_mode =='imdb'):\n",
    "\n",
    "            print('Fine-Tuned model path : ', pre_trained_ckpt[model_mode][model_checkpoint])\n",
    "            ft = FineTuner(model_name=model_checkpoint,from_local=True, model_save_dir='None',local_model_path=pre_trained_ckpt[model_mode][model_checkpoint],ft_ds = model_mode, random_init=False)\n",
    "\n",
    "        elif(model_mode == 'random'):\n",
    "        \n",
    "            ft = FineTuner(model_name=model_checkpoint,from_local=False, model_save_dir='None',local_model_path='None',ft_ds = model_mode, random_init=True)\n",
    "\n",
    "        metric = Metric(model_name = model_checkpoint, model = ft.getModel(), tokenizer = ft.getTokenizer(), model_tag= ft.model_tag, model_dir = ft.model_dir)\n",
    "        for num_itr in range(1):\n",
    "            metric.get_metric(metric = 'crows-pairs', input_file = '/home/bhatt/ishan/TUM_Thesis/data/metrics_ds/crows-pairs/data/crows_pairs_anonymized.csv', output_file = '/home/bhatt/ishan/TUM_Thesis/data/results/cp_results.csv')\n",
    "            metric.get_metric(metric = 'stereoset', input_file = '/home/bhatt/ishan/TUM_Thesis/data/metrics_ds/stereoset/dev.json', output_file = 'stereoset_results.txt',\n",
    "                   output_dir = '/home/bhatt/ishan/TUM_Thesis/data/results')\n",
    "            metric.get_metric(metric = 'ceat', input_dir = '/home/bhatt/ishan/TUM_Thesis/data/metrics_ds/ceat',output_dir = '/home/bhatt/ishan/TUM_Thesis/data/results/ceat',generate_new=True)"
   ]
  },
  {
   "cell_type": "code",
   "execution_count": null,
   "metadata": {},
   "outputs": [],
   "source": [
    "model_checkpoint = \"albert-base-v2\"\n",
    "model_save_dir = f\"/home/bhatt/ishan/TUM_Thesis/data/models/{model_checkpoint}_\"+(datetime.now()).strftime(\"%Y-%m-%d\")\n",
    "ft_model_save_dir = f\"/home/bhatt/ishan/TUM_Thesis/data/models/{model_checkpoint}-finetuned_\"+(datetime.now()).strftime(\"%Y-%m-%d\")"
   ]
  },
  {
   "cell_type": "code",
   "execution_count": null,
   "metadata": {},
   "outputs": [],
   "source": [
    "ft_model_save_dir\n",
    "dataset_name = 'imdb'\n",
    "ft_model_save_dir = f\"/home/bhatt/ishan/TUM_Thesis/data/models/{model_checkpoint}-finetuned-{dataset_name}_\"+(datetime.now()).strftime(\"%Y-%m-%d\")\n",
    "ft_model_save_dir"
   ]
  },
  {
   "cell_type": "code",
   "execution_count": null,
   "metadata": {},
   "outputs": [],
   "source": [
    "ft = FineTuner(model_name=model_checkpoint,from_local=False, model_save_dir=ft_model_save_dir,local_model_path='/home/bhatt/ishan/TUM_Thesis/data/models/distilbert-base-uncased-finetuned-imdb_2023-12-20/checkpoint-1500',\n",
    "               ft_ds = dataset_name, random_init=False)"
   ]
  },
  {
   "cell_type": "code",
   "execution_count": null,
   "id": "db749473",
   "metadata": {},
   "outputs": [],
   "source": [
    "ft.model_dir, ft.model_tag"
   ]
  },
  {
   "cell_type": "code",
   "execution_count": null,
   "metadata": {},
   "outputs": [],
   "source": [
    "ft.finetune_model(dataset_name = 'imdb')"
   ]
  },
  {
   "cell_type": "code",
   "execution_count": null,
   "id": "e68dc684",
   "metadata": {},
   "outputs": [],
   "source": [
    "ft.getModel().device"
   ]
  },
  {
   "cell_type": "code",
   "execution_count": null,
   "id": "5ed6df49",
   "metadata": {},
   "outputs": [],
   "source": [
    "metric = Metric(model_name = model_checkpoint, model = ft.getModel(), tokenizer = ft.getTokenizer(), model_tag= ft.model_tag, model_dir = ft.model_dir)"
   ]
  },
  {
   "cell_type": "code",
   "execution_count": null,
   "id": "1c55ad4a",
   "metadata": {},
   "outputs": [],
   "source": [
    "metric.get_metric(metric = 'crows-pairs', input_file = '/home/bhatt/ishan/TUM_Thesis/data/metrics_ds/crows-pairs/data/crows_pairs_anonymized.csv', output_file = '/home/bhatt/ishan/TUM_Thesis/data/results/cp_results.csv')"
   ]
  },
  {
   "cell_type": "code",
   "execution_count": null,
   "id": "53ce1ee8",
   "metadata": {},
   "outputs": [],
   "source": [
    "metric.get_metric(metric = 'stereoset', input_file = '/home/bhatt/ishan/TUM_Thesis/data/metrics_ds/stereoset/dev.json', output_file = 'stereoset_results.txt',\n",
    "                   output_dir = '/home/bhatt/ishan/TUM_Thesis/data/results')"
   ]
  },
  {
   "cell_type": "code",
   "execution_count": null,
   "id": "d15bac86",
   "metadata": {},
   "outputs": [],
   "source": [
    "metric.get_metric(metric = 'ceat', input_dir = '/home/bhatt/ishan/TUM_Thesis/data/metrics_ds/ceat',output_dir = '/home/bhatt/ishan/TUM_Thesis/data/results/ceat',generate_new=True)"
   ]
  },
  {
   "cell_type": "code",
   "execution_count": null,
   "id": "fa0a2894",
   "metadata": {},
   "outputs": [],
   "source": []
  },
  {
   "cell_type": "code",
   "execution_count": null,
   "id": "e11a9eb2",
   "metadata": {},
   "outputs": [],
   "source": []
  }
 ],
 "metadata": {
  "kernelspec": {
   "display_name": "Python 3 (ipykernel)",
   "language": "python",
   "name": "python3"
  },
  "language_info": {
   "codemirror_mode": {
    "name": "ipython",
    "version": 3
   },
   "file_extension": ".py",
   "mimetype": "text/x-python",
   "name": "python",
   "nbconvert_exporter": "python",
   "pygments_lexer": "ipython3",
   "version": "3.11.5"
  }
 },
 "nbformat": 4,
 "nbformat_minor": 5
}
