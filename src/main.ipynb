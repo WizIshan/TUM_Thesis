{
 "cells": [
  {
   "cell_type": "code",
   "execution_count": 3,
   "id": "6aa10f73-594a-4dc8-b4d1-f849107a4f1c",
   "metadata": {},
   "outputs": [],
   "source": [
    "from datetime import datetime\n",
    "\n",
    "from models import FineTuner\n",
    "from generate_metrics import Metric"
   ]
  },
  {
   "cell_type": "code",
   "execution_count": 4,
   "metadata": {},
   "outputs": [
    {
     "data": {
      "text/plain": [
       "'2023-12-28'"
      ]
     },
     "execution_count": 4,
     "metadata": {},
     "output_type": "execute_result"
    }
   ],
   "source": [
    "(datetime.now()).strftime(\"%Y-%m-%d\")"
   ]
  },
  {
   "cell_type": "code",
   "execution_count": 5,
   "metadata": {},
   "outputs": [],
   "source": [
    "%load_ext autoreload\n",
    "%autoreload 2"
   ]
  },
  {
   "cell_type": "code",
   "execution_count": 8,
   "metadata": {},
   "outputs": [],
   "source": [
    "model_checkpoint = \"distilbert-base-uncased\"\n",
    "model_save_dir = f\"/home/bhatt/ishan/TUM_Thesis/data/models/{model_checkpoint}_\"+(datetime.now()).strftime(\"%Y-%m-%d\")\n",
    "ft_model_save_dir = f\"/home/bhatt/ishan/TUM_Thesis/data/models/{model_checkpoint}-finetuned_\"+(datetime.now()).strftime(\"%Y-%m-%d\")"
   ]
  },
  {
   "cell_type": "code",
   "execution_count": 9,
   "metadata": {},
   "outputs": [
    {
     "data": {
      "text/plain": [
       "'/home/bhatt/ishan/TUM_Thesis/data/models/distilbert-base-uncased-finetuned-imdb_2023-12-28'"
      ]
     },
     "execution_count": 9,
     "metadata": {},
     "output_type": "execute_result"
    }
   ],
   "source": [
    "ft_model_save_dir\n",
    "dataset_name = 'imdb'\n",
    "ft_model_save_dir = f\"/home/bhatt/ishan/TUM_Thesis/data/models/{model_checkpoint}-finetuned-{dataset_name}_\"+(datetime.now()).strftime(\"%Y-%m-%d\")\n",
    "ft_model_save_dir"
   ]
  },
  {
   "cell_type": "code",
   "execution_count": 16,
   "metadata": {},
   "outputs": [
    {
     "name": "stdout",
     "output_type": "stream",
     "text": [
      "Initializing Model\n",
      "Model Initialized!\n"
     ]
    }
   ],
   "source": [
    "ft = FineTuner(model_name=model_checkpoint,from_local=True, model_save_dir=ft_model_save_dir,local_model_path='/home/bhatt/ishan/TUM_Thesis/data/models/distilbert-base-uncased-finetuned-imdb_2023-12-20/checkpoint-1500',\n",
    "               ft_ds = 'imdb', random_init=False)"
   ]
  },
  {
   "cell_type": "code",
   "execution_count": 17,
   "id": "db749473",
   "metadata": {},
   "outputs": [
    {
     "data": {
      "text/plain": [
       "('/home/bhatt/ishan/TUM_Thesis/data/models/distilbert-base-uncased-finetuned-imdb_2023-12-20/checkpoint-1500',\n",
       " 'distilbert-base-uncased_FT_imdb')"
      ]
     },
     "execution_count": 17,
     "metadata": {},
     "output_type": "execute_result"
    }
   ],
   "source": [
    "ft.model_dir, ft.model_tag"
   ]
  },
  {
   "cell_type": "code",
   "execution_count": 18,
   "metadata": {},
   "outputs": [],
   "source": [
    "# ft.finetune_model(dataset_name = 'imdb')"
   ]
  },
  {
   "cell_type": "code",
   "execution_count": 22,
   "id": "1ce51249",
   "metadata": {},
   "outputs": [],
   "source": [
    "from metrics.ceat.ceat import *"
   ]
  },
  {
   "cell_type": "code",
   "execution_count": 30,
   "id": "e68dc684",
   "metadata": {},
   "outputs": [
    {
     "data": {
      "text/plain": [
       "device(type='cpu')"
      ]
     },
     "execution_count": 30,
     "metadata": {},
     "output_type": "execute_result"
    }
   ],
   "source": [
    "ft.getModel().device"
   ]
  },
  {
   "cell_type": "code",
   "execution_count": 35,
   "id": "16b2c31d",
   "metadata": {},
   "outputs": [
    {
     "name": "stdout",
     "output_type": "stream",
     "text": [
      "tao>0\n",
      "PES is 0.9470912678455295:\n",
      "P-value is 0.0:\n",
      " \n",
      "tao>0\n",
      "PES is 0.7473403629556306:\n",
      "P-value is 0.0:\n",
      " \n",
      "tao>0\n",
      "PES is 0.4332899607213852:\n",
      "P-value is 0.0:\n",
      " \n",
      "tao>0\n",
      "PES is 0.4684830068021903:\n",
      "P-value is 0.0:\n",
      " \n",
      "tao>0\n",
      "PES is 0.15048307671939518:\n",
      "P-value is 5.692672411973446e-38:\n",
      " \n",
      "tao>0\n",
      "PES is 0.8289021407955081:\n",
      "P-value is 0.0:\n",
      " \n",
      "tao>0\n",
      "PES is 0.4504740095621228:\n",
      "P-value is 1.3324185418697942e-153:\n",
      " \n",
      "tao>0\n",
      "PES is 0.3346427966215056:\n",
      "P-value is 4.125314043211341e-107:\n",
      " \n",
      "tao>0\n",
      "PES is 0.5111876451944702:\n",
      "P-value is 5.440313737259915e-138:\n",
      " \n",
      "tao>0\n",
      "PES is 0.15767965431945105:\n",
      "P-value is 2.2822147461906718e-24:\n",
      " \n",
      "tao>0\n",
      "PES is 1.2396419482760666:\n",
      "P-value is 0.0:\n",
      " \n",
      "tao>0\n",
      "PES is 1.2565612230091732:\n",
      "P-value is 0.0:\n",
      " \n",
      "tao>0\n",
      "PES is 0.5054890250183826:\n",
      "P-value is 0.0:\n",
      " \n",
      "tao>0\n",
      "PES is 0.4145512342045096:\n",
      "P-value is 4.111041101608302e-181:\n",
      " \n"
     ]
    }
   ],
   "source": [
    "input_dir = '/home/bhatt/ishan/TUM_Thesis/data/metrics_ds/ceat'\n",
    "output_dir = '/home/bhatt/ishan/TUM_Thesis/data/results/ceat'\n",
    "get_ceat(input_dir,output_dir,ft.getModel(),ft.getTokenizer(),ft.model_tag,generate_new=False)"
   ]
  },
  {
   "cell_type": "code",
   "execution_count": null,
   "id": "ba74ba51",
   "metadata": {},
   "outputs": [],
   "source": [
    "/home/bhatt/ishan/TUM_Thesis/data/metrics_ds/ceat/sen_dic_1.pickle"
   ]
  },
  {
   "cell_type": "code",
   "execution_count": null,
   "id": "8f47ee2b",
   "metadata": {},
   "outputs": [],
   "source": []
  },
  {
   "cell_type": "code",
   "execution_count": 63,
   "id": "5ed6df49",
   "metadata": {},
   "outputs": [],
   "source": [
    "metric = Metric(model_name = model_checkpoint, model = ft.getModel(), tokenizer = ft.getTokenizer(), model_tag= ft.model_tag, model_dir = ft.model_dir)"
   ]
  },
  {
   "cell_type": "code",
   "execution_count": 64,
   "id": "1c55ad4a",
   "metadata": {},
   "outputs": [
    {
     "name": "stderr",
     "output_type": "stream",
     "text": [
      "  0%|          | 1/1508 [00:00<06:27,  3.89it/s]/home/bhatt/ishan/TUM_Thesis/src/metrics/crows_pairs.py:266: FutureWarning: The behavior of DataFrame concatenation with empty or all-NA entries is deprecated. In a future version, this will no longer exclude empty or all-NA columns when determining the result dtypes. To retain the old behavior, exclude the relevant entries before the concat operation.\n",
      "  df_score = pd.concat([df_score,pd.DataFrame({'sent_more': [sent_more],\n",
      "100%|██████████| 1508/1508 [02:24<00:00, 10.46it/s]\n"
     ]
    },
    {
     "name": "stdout",
     "output_type": "stream",
     "text": [
      "====================================================================================================\n",
      "Total examples: 1508\n",
      "Metric score: 49.2\n",
      "Stereotype score: 49.38\n",
      "Anti-stereotype score: 49.08\n",
      "Num. neutral: 4 0.27\n",
      "====================================================================================================\n",
      "\n",
      "Metrics Saved in  /home/bhatt/ishan/TUM_Thesis/data/results/master_results.xlsx\n"
     ]
    }
   ],
   "source": [
    "metric.get_metric(metric = 'crows-pairs', input_file = '/home/bhatt/ishan/TUM_Thesis/data/metrics_ds/crows-pairs/data/crows_pairs_anonymized.csv', output_file = '/home/bhatt/ishan/TUM_Thesis/data/results/cp_results.csv')"
   ]
  },
  {
   "cell_type": "code",
   "execution_count": 65,
   "id": "53ce1ee8",
   "metadata": {},
   "outputs": [
    {
     "name": "stderr",
     "output_type": "stream",
     "text": [
      "100%|██████████| 8048/8048 [00:31<00:00, 258.15it/s]\n"
     ]
    },
    {
     "name": "stdout",
     "output_type": "stream",
     "text": [
      "Metrics Saved in  /home/bhatt/ishan/TUM_Thesis/data/results/master_results.xlsx\n"
     ]
    }
   ],
   "source": [
    "metric.get_metric(metric = 'stereoset', input_file = '/home/bhatt/ishan/TUM_Thesis/data/metrics_ds/stereoset/dev.json', output_file = 'stereoset_results.txt',\n",
    "                   output_dir = '/home/bhatt/ishan/TUM_Thesis/data/results')"
   ]
  },
  {
   "cell_type": "code",
   "execution_count": null,
   "id": "d15bac86",
   "metadata": {},
   "outputs": [],
   "source": []
  },
  {
   "cell_type": "code",
   "execution_count": 2,
   "id": "fa0a2894",
   "metadata": {},
   "outputs": [],
   "source": []
  }
 ],
 "metadata": {
  "kernelspec": {
   "display_name": "Python 3 (ipykernel)",
   "language": "python",
   "name": "python3"
  },
  "language_info": {
   "codemirror_mode": {
    "name": "ipython",
    "version": 3
   },
   "file_extension": ".py",
   "mimetype": "text/x-python",
   "name": "python",
   "nbconvert_exporter": "python",
   "pygments_lexer": "ipython3",
   "version": "3.11.5"
  }
 },
 "nbformat": 4,
 "nbformat_minor": 5
}
