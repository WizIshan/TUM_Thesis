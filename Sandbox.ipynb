{
 "cells": [
  {
   "cell_type": "code",
   "execution_count": 2,
   "id": "67959507",
   "metadata": {},
   "outputs": [],
   "source": [
    "import torch\n",
    "import torch.nn as nn\n",
    "\n",
    "import transformers\n",
    "\n",
    "from transformers import pipeline\n",
    "from datasets import load_dataset\n",
    "\n",
    "import random"
   ]
  },
  {
   "cell_type": "code",
   "execution_count": 75,
   "id": "5179e970-7c4a-4f5a-a2e0-809d86cf05ef",
   "metadata": {},
   "outputs": [],
   "source": [
    "import pandas as pd"
   ]
  },
  {
   "cell_type": "markdown",
   "id": "5a4eab5f-e146-46b7-9ee1-8ef6720e7b4a",
   "metadata": {},
   "source": [
    "## DistilBERT for Masked Language Modelling"
   ]
  },
  {
   "cell_type": "code",
   "execution_count": 3,
   "id": "a0683bda",
   "metadata": {},
   "outputs": [
    {
     "name": "stderr",
     "output_type": "stream",
     "text": [
      "Downloading (…)okenizer_config.json: 100%|██████████████████████████████████████████████████| 28.0/28.0 [00:00<?, ?B/s]\n",
      "C:\\Users\\Ishan\\anaconda3\\envs\\thesis\\Lib\\site-packages\\huggingface_hub\\file_download.py:137: UserWarning: `huggingface_hub` cache-system uses symlinks by default to efficiently store duplicated files but your machine does not support them in C:\\Users\\Ishan\\.cache\\huggingface\\hub. Caching files will still work but in a degraded version that might require more space on your disk. This warning can be disabled by setting the `HF_HUB_DISABLE_SYMLINKS_WARNING` environment variable. For more details, see https://huggingface.co/docs/huggingface_hub/how-to-cache#limitations.\n",
      "To support symlinks on Windows, you either need to activate Developer Mode or to run Python as an administrator. In order to see activate developer mode, see this article: https://docs.microsoft.com/en-us/windows/apps/get-started/enable-your-device-for-development\n",
      "  warnings.warn(message)\n",
      "Downloading (…)lve/main/config.json: 100%|████████████████████████████████████████████████████| 483/483 [00:00<?, ?B/s]\n",
      "Downloading (…)solve/main/vocab.txt: 100%|███████████████████████████████████████████| 232k/232k [00:00<00:00, 799kB/s]\n",
      "Downloading (…)/main/tokenizer.json: 100%|██████████████████████████████████████████| 466k/466k [00:00<00:00, 1.17MB/s]\n"
     ]
    }
   ],
   "source": [
    "MODEL_TYPE = 'distilbert-base-uncased'\n",
    "tokenizer = transformers.AutoTokenizer.from_pretrained(MODEL_TYPE)"
   ]
  },
  {
   "cell_type": "code",
   "execution_count": 4,
   "id": "1236772b-736f-423a-baff-c2dc22fe5549",
   "metadata": {},
   "outputs": [
    {
     "name": "stderr",
     "output_type": "stream",
     "text": [
      "Downloading model.safetensors: 100%|████████████████████████████████████████████████| 268M/268M [02:24<00:00, 1.85MB/s]\n"
     ]
    }
   ],
   "source": [
    "model = transformers.AutoModelForMaskedLM.from_pretrained(MODEL_TYPE)"
   ]
  },
  {
   "cell_type": "code",
   "execution_count": 18,
   "id": "afe38c31-4d99-42c2-ac22-8fb3ef0be0cc",
   "metadata": {},
   "outputs": [],
   "source": [
    "text = \"A thesis should be [MASK].\""
   ]
  },
  {
   "cell_type": "code",
   "execution_count": 19,
   "id": "dcb5667b-54ad-4355-bf84-c7ecd4af011f",
   "metadata": {},
   "outputs": [],
   "source": [
    "inputs = tokenizer(text, return_tensors=\"pt\")"
   ]
  },
  {
   "cell_type": "code",
   "execution_count": 20,
   "id": "d69cde1d-d7ca-4de6-a690-481433be19cf",
   "metadata": {},
   "outputs": [
    {
     "data": {
      "text/plain": [
       "{'input_ids': tensor([[ 101, 1037, 9459, 2323, 2022,  103, 1012,  102]]), 'attention_mask': tensor([[1, 1, 1, 1, 1, 1, 1, 1]])}"
      ]
     },
     "execution_count": 20,
     "metadata": {},
     "output_type": "execute_result"
    }
   ],
   "source": [
    "inputs"
   ]
  },
  {
   "cell_type": "code",
   "execution_count": 21,
   "id": "7b0ea36b-2deb-4b0e-ab3c-0b620ae13e2c",
   "metadata": {},
   "outputs": [],
   "source": [
    "mask_token_index = torch.where(inputs[\"input_ids\"] == tokenizer.mask_token_id)[1]"
   ]
  },
  {
   "cell_type": "code",
   "execution_count": 22,
   "id": "8b8ab0d5-f93e-488e-8e32-6f407209afe4",
   "metadata": {},
   "outputs": [
    {
     "data": {
      "text/plain": [
       "tensor([5])"
      ]
     },
     "execution_count": 22,
     "metadata": {},
     "output_type": "execute_result"
    }
   ],
   "source": [
    "mask_token_index"
   ]
  },
  {
   "cell_type": "code",
   "execution_count": 23,
   "id": "108d4f06-3069-464a-b1e3-dc047e6c5ca3",
   "metadata": {},
   "outputs": [
    {
     "data": {
      "text/plain": [
       "103"
      ]
     },
     "execution_count": 23,
     "metadata": {},
     "output_type": "execute_result"
    }
   ],
   "source": [
    "tokenizer.mask_token_id"
   ]
  },
  {
   "cell_type": "code",
   "execution_count": 24,
   "id": "cb86481e-de2f-46eb-a831-8cf5d49d26d7",
   "metadata": {},
   "outputs": [
    {
     "data": {
      "text/plain": [
       "(tensor([0]), tensor([5]))"
      ]
     },
     "execution_count": 24,
     "metadata": {},
     "output_type": "execute_result"
    }
   ],
   "source": [
    "torch.where(inputs[\"input_ids\"] == tokenizer.mask_token_id)"
   ]
  },
  {
   "cell_type": "code",
   "execution_count": 25,
   "id": "4c55b96c-326c-457b-b0ae-f0fffd4c5199",
   "metadata": {},
   "outputs": [],
   "source": [
    "logits = model(**inputs).logits"
   ]
  },
  {
   "cell_type": "code",
   "execution_count": 26,
   "id": "54e6d9f0-e4ed-4a89-85c7-4bcdde08664e",
   "metadata": {},
   "outputs": [
    {
     "data": {
      "text/plain": [
       "torch.Size([1, 8, 30522])"
      ]
     },
     "execution_count": 26,
     "metadata": {},
     "output_type": "execute_result"
    }
   ],
   "source": [
    "logits.shape"
   ]
  },
  {
   "cell_type": "code",
   "execution_count": 27,
   "id": "fe76ab11-37dc-4749-99ae-09f3c31e645d",
   "metadata": {},
   "outputs": [],
   "source": [
    "mask_token_logits = logits[0, mask_token_index, :]"
   ]
  },
  {
   "cell_type": "code",
   "execution_count": 28,
   "id": "fc0cd02a-6e48-4722-92f7-a0e7e199ab01",
   "metadata": {},
   "outputs": [
    {
     "name": "stdout",
     "output_type": "stream",
     "text": [
      "A thesis should be considered.\n",
      "A thesis should be defended.\n",
      "A thesis should be written.\n"
     ]
    }
   ],
   "source": [
    "top_3_tokens = torch.topk(mask_token_logits, 3, dim=1).indices[0].tolist()\n",
    "\n",
    "for token in top_3_tokens:\n",
    "    print(text.replace(tokenizer.mask_token, tokenizer.decode([token])))"
   ]
  },
  {
   "cell_type": "markdown",
   "id": "f2e3394f-8821-4d5e-b73a-511779314963",
   "metadata": {},
   "source": [
    "## DistilBERT for Contextual Embeddings"
   ]
  },
  {
   "cell_type": "code",
   "execution_count": 90,
   "id": "f3ca5bc1-f4ba-4446-b3b7-c4519ca26187",
   "metadata": {},
   "outputs": [],
   "source": [
    "def generate_similarities(gendered_text,target_text):\n",
    "    result = {}\n",
    "    result['Target_Texts'] = target_text\n",
    "    cos = nn.CosineSimilarity(dim=1)\n",
    "    for gt in gendered_text:\n",
    "        encoded_input = tokenizer(gt, return_tensors='pt')\n",
    "        output = model(**encoded_input)\n",
    "        last_hidden_state = output.last_hidden_state\n",
    "        gt_embedding = last_hidden_state.mean(axis=1)\n",
    "        result[gt] = []\n",
    "        for tt in target_text:\n",
    "            encoded_input = tokenizer(tt, return_tensors='pt')\n",
    "            output = model(**encoded_input)\n",
    "            last_hidden_state = output.last_hidden_state\n",
    "            tt_embedding = last_hidden_state.mean(axis=1)\n",
    "            sim = cos(gt_embedding, tt_embedding)\n",
    "            result[gt].append(sim.item())\n",
    "    \n",
    "    temp = {}\n",
    "    temp['Gendered_Texts'] = pd.DataFrame(result).set_index('Target_Texts')\n",
    "    result = pd.concat(temp, axis=1)\n",
    "\n",
    "    return result"
   ]
  },
  {
   "cell_type": "code",
   "execution_count": 30,
   "id": "b0488e5f-cec5-4bb4-979c-af21b64929c8",
   "metadata": {},
   "outputs": [],
   "source": [
    "MODEL_TYPE = 'distilbert-base-uncased'\n",
    "\n",
    "tokenizer = transformers.AutoTokenizer.from_pretrained(MODEL_TYPE)"
   ]
  },
  {
   "cell_type": "code",
   "execution_count": 31,
   "id": "2b0554f5-8e00-4efd-9bb7-d26fbace36ec",
   "metadata": {},
   "outputs": [
    {
     "name": "stdout",
     "output_type": "stream",
     "text": [
      "# DistilBert Parameters: 66M (Remember from the lecture that BERT has around 110M parameters)\n"
     ]
    }
   ],
   "source": [
    "model = transformers.AutoModel.from_pretrained(MODEL_TYPE)\n",
    "print(f\"# DistilBert Parameters: {round(model.num_parameters() / 1_000_000)}M (Remember from the lecture that BERT has around 110M parameters)\")"
   ]
  },
  {
   "cell_type": "code",
   "execution_count": 113,
   "id": "0a8a8260-1a38-4fc1-88dc-e5cd5efac10b",
   "metadata": {},
   "outputs": [],
   "source": [
    "text1 = \"He is walking.\" \n",
    "text2 = \"She is walking.\"\n",
    "text3 = \"The boy is walking.\" \n",
    "text4 = \"The girl is walking.\" "
   ]
  },
  {
   "cell_type": "code",
   "execution_count": 114,
   "id": "be2b1215-efc1-4e40-8fb2-3e938b4ae259",
   "metadata": {},
   "outputs": [],
   "source": [
    "gendered_text = [text1,text2]\n",
    "target_text = [text3,text4]"
   ]
  },
  {
   "cell_type": "code",
   "execution_count": 115,
   "id": "3aa0f8c9-51cd-4e9d-9eb7-7587c59f76fd",
   "metadata": {},
   "outputs": [
    {
     "data": {
      "text/html": [
       "<div>\n",
       "<style scoped>\n",
       "    .dataframe tbody tr th:only-of-type {\n",
       "        vertical-align: middle;\n",
       "    }\n",
       "\n",
       "    .dataframe tbody tr th {\n",
       "        vertical-align: top;\n",
       "    }\n",
       "\n",
       "    .dataframe thead tr th {\n",
       "        text-align: left;\n",
       "    }\n",
       "\n",
       "    .dataframe thead tr:last-of-type th {\n",
       "        text-align: right;\n",
       "    }\n",
       "</style>\n",
       "<table border=\"1\" class=\"dataframe\">\n",
       "  <thead>\n",
       "    <tr>\n",
       "      <th></th>\n",
       "      <th colspan=\"2\" halign=\"left\">Gendered_Texts</th>\n",
       "    </tr>\n",
       "    <tr>\n",
       "      <th></th>\n",
       "      <th>He is walking.</th>\n",
       "      <th>She is walking.</th>\n",
       "    </tr>\n",
       "    <tr>\n",
       "      <th>Target_Texts</th>\n",
       "      <th></th>\n",
       "      <th></th>\n",
       "    </tr>\n",
       "  </thead>\n",
       "  <tbody>\n",
       "    <tr>\n",
       "      <th>The boy is walking.</th>\n",
       "      <td>0.942332</td>\n",
       "      <td>0.924348</td>\n",
       "    </tr>\n",
       "    <tr>\n",
       "      <th>The girl is walking.</th>\n",
       "      <td>0.919521</td>\n",
       "      <td>0.955328</td>\n",
       "    </tr>\n",
       "  </tbody>\n",
       "</table>\n",
       "</div>"
      ],
      "text/plain": [
       "                     Gendered_Texts                \n",
       "                     He is walking. She is walking.\n",
       "Target_Texts                                       \n",
       "The boy is walking.        0.942332        0.924348\n",
       "The girl is walking.       0.919521        0.955328"
      ]
     },
     "execution_count": 115,
     "metadata": {},
     "output_type": "execute_result"
    }
   ],
   "source": [
    "generate_similarities(gendered_text,target_text)"
   ]
  },
  {
   "cell_type": "code",
   "execution_count": null,
   "id": "b3464588-a092-4c4f-bdf0-6911cb27a096",
   "metadata": {},
   "outputs": [],
   "source": [
    "\n"
   ]
  },
  {
   "cell_type": "code",
   "execution_count": null,
   "id": "50a34f59-2a2b-4709-b15f-cebfffd49648",
   "metadata": {},
   "outputs": [],
   "source": []
  },
  {
   "cell_type": "code",
   "execution_count": null,
   "id": "f7372760-9c55-4a8a-ba05-7936f4535c77",
   "metadata": {},
   "outputs": [],
   "source": []
  },
  {
   "cell_type": "code",
   "execution_count": null,
   "id": "462c6a76-4427-4491-a270-dd55104523cc",
   "metadata": {},
   "outputs": [],
   "source": []
  },
  {
   "cell_type": "code",
   "execution_count": null,
   "id": "8a01991d-a4ad-4391-9214-83acf2e6199e",
   "metadata": {},
   "outputs": [],
   "source": []
  }
 ],
 "metadata": {
  "kernelspec": {
   "display_name": "Python 3 (ipykernel)",
   "language": "python",
   "name": "python3"
  },
  "language_info": {
   "codemirror_mode": {
    "name": "ipython",
    "version": 3
   },
   "file_extension": ".py",
   "mimetype": "text/x-python",
   "name": "python",
   "nbconvert_exporter": "python",
   "pygments_lexer": "ipython3",
   "version": "3.11.5"
  }
 },
 "nbformat": 4,
 "nbformat_minor": 5
}
